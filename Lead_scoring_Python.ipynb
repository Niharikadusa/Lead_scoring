{
 "cells": [
  {
   "cell_type": "code",
   "execution_count": 1,
   "id": "346911cc",
   "metadata": {},
   "outputs": [],
   "source": [
    "# Suppressing Warnings\n",
    "import warnings\n",
    "warnings.filterwarnings('ignore')"
   ]
  },
  {
   "cell_type": "code",
   "execution_count": 2,
   "id": "b9392ee0",
   "metadata": {},
   "outputs": [],
   "source": [
    "# Importing numpy and pandas\n",
    "import pandas as pd\n",
    "import numpy as np\n",
    "\n",
    "#importing visualization librabries\n",
    "import matplotlib.pyplot as plt\n",
    "import seaborn as sns\n",
    "%matplotlib inline\n",
    "\n",
    "# importing sklearn libraies\n",
    "from sklearn.model_selection import train_test_split\n",
    "from sklearn.preprocessing import StandardScaler\n",
    "import statsmodels.api as sm\n",
    "from sklearn.linear_model import LogisticRegression\n",
    "from sklearn import metrics\n",
    "from statsmodels.stats.outliers_influence import variance_inflation_factor\n",
    "from sklearn.feature_selection import RFE\n",
    "from sklearn.metrics import precision_score, recall_score\n",
    "from sklearn.metrics import confusion_matrix"
   ]
  },
  {
   "cell_type": "markdown",
   "id": "b1707fb7",
   "metadata": {},
   "source": [
    "## 1. Reading and understanding data"
   ]
  },
  {
   "cell_type": "code",
   "execution_count": 3,
   "id": "9c96a715",
   "metadata": {},
   "outputs": [
    {
     "data": {
      "text/html": [
       "<div>\n",
       "<style scoped>\n",
       "    .dataframe tbody tr th:only-of-type {\n",
       "        vertical-align: middle;\n",
       "    }\n",
       "\n",
       "    .dataframe tbody tr th {\n",
       "        vertical-align: top;\n",
       "    }\n",
       "\n",
       "    .dataframe thead th {\n",
       "        text-align: right;\n",
       "    }\n",
       "</style>\n",
       "<table border=\"1\" class=\"dataframe\">\n",
       "  <thead>\n",
       "    <tr style=\"text-align: right;\">\n",
       "      <th></th>\n",
       "      <th>Prospect ID</th>\n",
       "      <th>Lead Number</th>\n",
       "      <th>Lead Origin</th>\n",
       "      <th>Lead Source</th>\n",
       "      <th>Do Not Email</th>\n",
       "      <th>Do Not Call</th>\n",
       "      <th>Converted</th>\n",
       "      <th>TotalVisits</th>\n",
       "      <th>Total Time Spent on Website</th>\n",
       "      <th>Page Views Per Visit</th>\n",
       "      <th>...</th>\n",
       "      <th>Get updates on DM Content</th>\n",
       "      <th>Lead Profile</th>\n",
       "      <th>City</th>\n",
       "      <th>Asymmetrique Activity Index</th>\n",
       "      <th>Asymmetrique Profile Index</th>\n",
       "      <th>Asymmetrique Activity Score</th>\n",
       "      <th>Asymmetrique Profile Score</th>\n",
       "      <th>I agree to pay the amount through cheque</th>\n",
       "      <th>A free copy of Mastering The Interview</th>\n",
       "      <th>Last Notable Activity</th>\n",
       "    </tr>\n",
       "  </thead>\n",
       "  <tbody>\n",
       "    <tr>\n",
       "      <th>0</th>\n",
       "      <td>7927b2df-8bba-4d29-b9a2-b6e0beafe620</td>\n",
       "      <td>660737</td>\n",
       "      <td>API</td>\n",
       "      <td>Olark Chat</td>\n",
       "      <td>No</td>\n",
       "      <td>No</td>\n",
       "      <td>0</td>\n",
       "      <td>0.0</td>\n",
       "      <td>0</td>\n",
       "      <td>0.0</td>\n",
       "      <td>...</td>\n",
       "      <td>No</td>\n",
       "      <td>Select</td>\n",
       "      <td>Select</td>\n",
       "      <td>02.Medium</td>\n",
       "      <td>02.Medium</td>\n",
       "      <td>15.0</td>\n",
       "      <td>15.0</td>\n",
       "      <td>No</td>\n",
       "      <td>No</td>\n",
       "      <td>Modified</td>\n",
       "    </tr>\n",
       "    <tr>\n",
       "      <th>1</th>\n",
       "      <td>2a272436-5132-4136-86fa-dcc88c88f482</td>\n",
       "      <td>660728</td>\n",
       "      <td>API</td>\n",
       "      <td>Organic Search</td>\n",
       "      <td>No</td>\n",
       "      <td>No</td>\n",
       "      <td>0</td>\n",
       "      <td>5.0</td>\n",
       "      <td>674</td>\n",
       "      <td>2.5</td>\n",
       "      <td>...</td>\n",
       "      <td>No</td>\n",
       "      <td>Select</td>\n",
       "      <td>Select</td>\n",
       "      <td>02.Medium</td>\n",
       "      <td>02.Medium</td>\n",
       "      <td>15.0</td>\n",
       "      <td>15.0</td>\n",
       "      <td>No</td>\n",
       "      <td>No</td>\n",
       "      <td>Email Opened</td>\n",
       "    </tr>\n",
       "    <tr>\n",
       "      <th>2</th>\n",
       "      <td>8cc8c611-a219-4f35-ad23-fdfd2656bd8a</td>\n",
       "      <td>660727</td>\n",
       "      <td>Landing Page Submission</td>\n",
       "      <td>Direct Traffic</td>\n",
       "      <td>No</td>\n",
       "      <td>No</td>\n",
       "      <td>1</td>\n",
       "      <td>2.0</td>\n",
       "      <td>1532</td>\n",
       "      <td>2.0</td>\n",
       "      <td>...</td>\n",
       "      <td>No</td>\n",
       "      <td>Potential Lead</td>\n",
       "      <td>Mumbai</td>\n",
       "      <td>02.Medium</td>\n",
       "      <td>01.High</td>\n",
       "      <td>14.0</td>\n",
       "      <td>20.0</td>\n",
       "      <td>No</td>\n",
       "      <td>Yes</td>\n",
       "      <td>Email Opened</td>\n",
       "    </tr>\n",
       "    <tr>\n",
       "      <th>3</th>\n",
       "      <td>0cc2df48-7cf4-4e39-9de9-19797f9b38cc</td>\n",
       "      <td>660719</td>\n",
       "      <td>Landing Page Submission</td>\n",
       "      <td>Direct Traffic</td>\n",
       "      <td>No</td>\n",
       "      <td>No</td>\n",
       "      <td>0</td>\n",
       "      <td>1.0</td>\n",
       "      <td>305</td>\n",
       "      <td>1.0</td>\n",
       "      <td>...</td>\n",
       "      <td>No</td>\n",
       "      <td>Select</td>\n",
       "      <td>Mumbai</td>\n",
       "      <td>02.Medium</td>\n",
       "      <td>01.High</td>\n",
       "      <td>13.0</td>\n",
       "      <td>17.0</td>\n",
       "      <td>No</td>\n",
       "      <td>No</td>\n",
       "      <td>Modified</td>\n",
       "    </tr>\n",
       "    <tr>\n",
       "      <th>4</th>\n",
       "      <td>3256f628-e534-4826-9d63-4a8b88782852</td>\n",
       "      <td>660681</td>\n",
       "      <td>Landing Page Submission</td>\n",
       "      <td>Google</td>\n",
       "      <td>No</td>\n",
       "      <td>No</td>\n",
       "      <td>1</td>\n",
       "      <td>2.0</td>\n",
       "      <td>1428</td>\n",
       "      <td>1.0</td>\n",
       "      <td>...</td>\n",
       "      <td>No</td>\n",
       "      <td>Select</td>\n",
       "      <td>Mumbai</td>\n",
       "      <td>02.Medium</td>\n",
       "      <td>01.High</td>\n",
       "      <td>15.0</td>\n",
       "      <td>18.0</td>\n",
       "      <td>No</td>\n",
       "      <td>No</td>\n",
       "      <td>Modified</td>\n",
       "    </tr>\n",
       "  </tbody>\n",
       "</table>\n",
       "<p>5 rows × 37 columns</p>\n",
       "</div>"
      ],
      "text/plain": [
       "                            Prospect ID  Lead Number              Lead Origin  \\\n",
       "0  7927b2df-8bba-4d29-b9a2-b6e0beafe620       660737                      API   \n",
       "1  2a272436-5132-4136-86fa-dcc88c88f482       660728                      API   \n",
       "2  8cc8c611-a219-4f35-ad23-fdfd2656bd8a       660727  Landing Page Submission   \n",
       "3  0cc2df48-7cf4-4e39-9de9-19797f9b38cc       660719  Landing Page Submission   \n",
       "4  3256f628-e534-4826-9d63-4a8b88782852       660681  Landing Page Submission   \n",
       "\n",
       "      Lead Source Do Not Email Do Not Call  Converted  TotalVisits  \\\n",
       "0      Olark Chat           No          No          0          0.0   \n",
       "1  Organic Search           No          No          0          5.0   \n",
       "2  Direct Traffic           No          No          1          2.0   \n",
       "3  Direct Traffic           No          No          0          1.0   \n",
       "4          Google           No          No          1          2.0   \n",
       "\n",
       "   Total Time Spent on Website  Page Views Per Visit  ...  \\\n",
       "0                            0                   0.0  ...   \n",
       "1                          674                   2.5  ...   \n",
       "2                         1532                   2.0  ...   \n",
       "3                          305                   1.0  ...   \n",
       "4                         1428                   1.0  ...   \n",
       "\n",
       "  Get updates on DM Content    Lead Profile    City  \\\n",
       "0                        No          Select  Select   \n",
       "1                        No          Select  Select   \n",
       "2                        No  Potential Lead  Mumbai   \n",
       "3                        No          Select  Mumbai   \n",
       "4                        No          Select  Mumbai   \n",
       "\n",
       "  Asymmetrique Activity Index Asymmetrique Profile Index  \\\n",
       "0                   02.Medium                  02.Medium   \n",
       "1                   02.Medium                  02.Medium   \n",
       "2                   02.Medium                    01.High   \n",
       "3                   02.Medium                    01.High   \n",
       "4                   02.Medium                    01.High   \n",
       "\n",
       "  Asymmetrique Activity Score Asymmetrique Profile Score  \\\n",
       "0                        15.0                       15.0   \n",
       "1                        15.0                       15.0   \n",
       "2                        14.0                       20.0   \n",
       "3                        13.0                       17.0   \n",
       "4                        15.0                       18.0   \n",
       "\n",
       "  I agree to pay the amount through cheque  \\\n",
       "0                                       No   \n",
       "1                                       No   \n",
       "2                                       No   \n",
       "3                                       No   \n",
       "4                                       No   \n",
       "\n",
       "  A free copy of Mastering The Interview Last Notable Activity  \n",
       "0                                     No              Modified  \n",
       "1                                     No          Email Opened  \n",
       "2                                    Yes          Email Opened  \n",
       "3                                     No              Modified  \n",
       "4                                     No              Modified  \n",
       "\n",
       "[5 rows x 37 columns]"
      ]
     },
     "execution_count": 3,
     "metadata": {},
     "output_type": "execute_result"
    }
   ],
   "source": [
    "#import datasets\n",
    "lead_score_df=pd.read_csv(\"Leads.csv\")\n",
    "lead_score_df.head()"
   ]
  },
  {
   "cell_type": "code",
   "execution_count": 4,
   "id": "26825eb5",
   "metadata": {},
   "outputs": [
    {
     "data": {
      "text/plain": [
       "(9240, 37)"
      ]
     },
     "execution_count": 4,
     "metadata": {},
     "output_type": "execute_result"
    }
   ],
   "source": [
    "#shape of dataframe\n",
    "lead_score_df.shape"
   ]
  },
  {
   "cell_type": "code",
   "execution_count": 5,
   "id": "7119f7e4",
   "metadata": {},
   "outputs": [
    {
     "data": {
      "text/html": [
       "<div>\n",
       "<style scoped>\n",
       "    .dataframe tbody tr th:only-of-type {\n",
       "        vertical-align: middle;\n",
       "    }\n",
       "\n",
       "    .dataframe tbody tr th {\n",
       "        vertical-align: top;\n",
       "    }\n",
       "\n",
       "    .dataframe thead th {\n",
       "        text-align: right;\n",
       "    }\n",
       "</style>\n",
       "<table border=\"1\" class=\"dataframe\">\n",
       "  <thead>\n",
       "    <tr style=\"text-align: right;\">\n",
       "      <th></th>\n",
       "      <th>Lead Number</th>\n",
       "      <th>Converted</th>\n",
       "      <th>TotalVisits</th>\n",
       "      <th>Total Time Spent on Website</th>\n",
       "      <th>Page Views Per Visit</th>\n",
       "      <th>Asymmetrique Activity Score</th>\n",
       "      <th>Asymmetrique Profile Score</th>\n",
       "    </tr>\n",
       "  </thead>\n",
       "  <tbody>\n",
       "    <tr>\n",
       "      <th>count</th>\n",
       "      <td>9240.000000</td>\n",
       "      <td>9240.000000</td>\n",
       "      <td>9103.000000</td>\n",
       "      <td>9240.000000</td>\n",
       "      <td>9103.000000</td>\n",
       "      <td>5022.000000</td>\n",
       "      <td>5022.000000</td>\n",
       "    </tr>\n",
       "    <tr>\n",
       "      <th>mean</th>\n",
       "      <td>617188.435606</td>\n",
       "      <td>0.385390</td>\n",
       "      <td>3.445238</td>\n",
       "      <td>487.698268</td>\n",
       "      <td>2.362820</td>\n",
       "      <td>14.306252</td>\n",
       "      <td>16.344883</td>\n",
       "    </tr>\n",
       "    <tr>\n",
       "      <th>std</th>\n",
       "      <td>23405.995698</td>\n",
       "      <td>0.486714</td>\n",
       "      <td>4.854853</td>\n",
       "      <td>548.021466</td>\n",
       "      <td>2.161418</td>\n",
       "      <td>1.386694</td>\n",
       "      <td>1.811395</td>\n",
       "    </tr>\n",
       "    <tr>\n",
       "      <th>min</th>\n",
       "      <td>579533.000000</td>\n",
       "      <td>0.000000</td>\n",
       "      <td>0.000000</td>\n",
       "      <td>0.000000</td>\n",
       "      <td>0.000000</td>\n",
       "      <td>7.000000</td>\n",
       "      <td>11.000000</td>\n",
       "    </tr>\n",
       "    <tr>\n",
       "      <th>25%</th>\n",
       "      <td>596484.500000</td>\n",
       "      <td>0.000000</td>\n",
       "      <td>1.000000</td>\n",
       "      <td>12.000000</td>\n",
       "      <td>1.000000</td>\n",
       "      <td>14.000000</td>\n",
       "      <td>15.000000</td>\n",
       "    </tr>\n",
       "    <tr>\n",
       "      <th>50%</th>\n",
       "      <td>615479.000000</td>\n",
       "      <td>0.000000</td>\n",
       "      <td>3.000000</td>\n",
       "      <td>248.000000</td>\n",
       "      <td>2.000000</td>\n",
       "      <td>14.000000</td>\n",
       "      <td>16.000000</td>\n",
       "    </tr>\n",
       "    <tr>\n",
       "      <th>75%</th>\n",
       "      <td>637387.250000</td>\n",
       "      <td>1.000000</td>\n",
       "      <td>5.000000</td>\n",
       "      <td>936.000000</td>\n",
       "      <td>3.000000</td>\n",
       "      <td>15.000000</td>\n",
       "      <td>18.000000</td>\n",
       "    </tr>\n",
       "    <tr>\n",
       "      <th>max</th>\n",
       "      <td>660737.000000</td>\n",
       "      <td>1.000000</td>\n",
       "      <td>251.000000</td>\n",
       "      <td>2272.000000</td>\n",
       "      <td>55.000000</td>\n",
       "      <td>18.000000</td>\n",
       "      <td>20.000000</td>\n",
       "    </tr>\n",
       "  </tbody>\n",
       "</table>\n",
       "</div>"
      ],
      "text/plain": [
       "         Lead Number    Converted  TotalVisits  Total Time Spent on Website  \\\n",
       "count    9240.000000  9240.000000  9103.000000                  9240.000000   \n",
       "mean   617188.435606     0.385390     3.445238                   487.698268   \n",
       "std     23405.995698     0.486714     4.854853                   548.021466   \n",
       "min    579533.000000     0.000000     0.000000                     0.000000   \n",
       "25%    596484.500000     0.000000     1.000000                    12.000000   \n",
       "50%    615479.000000     0.000000     3.000000                   248.000000   \n",
       "75%    637387.250000     1.000000     5.000000                   936.000000   \n",
       "max    660737.000000     1.000000   251.000000                  2272.000000   \n",
       "\n",
       "       Page Views Per Visit  Asymmetrique Activity Score  \\\n",
       "count           9103.000000                  5022.000000   \n",
       "mean               2.362820                    14.306252   \n",
       "std                2.161418                     1.386694   \n",
       "min                0.000000                     7.000000   \n",
       "25%                1.000000                    14.000000   \n",
       "50%                2.000000                    14.000000   \n",
       "75%                3.000000                    15.000000   \n",
       "max               55.000000                    18.000000   \n",
       "\n",
       "       Asymmetrique Profile Score  \n",
       "count                 5022.000000  \n",
       "mean                    16.344883  \n",
       "std                      1.811395  \n",
       "min                     11.000000  \n",
       "25%                     15.000000  \n",
       "50%                     16.000000  \n",
       "75%                     18.000000  \n",
       "max                     20.000000  "
      ]
     },
     "execution_count": 5,
     "metadata": {},
     "output_type": "execute_result"
    }
   ],
   "source": [
    "lead_score_df.describe()"
   ]
  },
  {
   "cell_type": "code",
   "execution_count": 6,
   "id": "ff255f3b",
   "metadata": {
    "scrolled": false
   },
   "outputs": [
    {
     "name": "stdout",
     "output_type": "stream",
     "text": [
      "<class 'pandas.core.frame.DataFrame'>\n",
      "RangeIndex: 9240 entries, 0 to 9239\n",
      "Data columns (total 37 columns):\n",
      " #   Column                                         Non-Null Count  Dtype  \n",
      "---  ------                                         --------------  -----  \n",
      " 0   Prospect ID                                    9240 non-null   object \n",
      " 1   Lead Number                                    9240 non-null   int64  \n",
      " 2   Lead Origin                                    9240 non-null   object \n",
      " 3   Lead Source                                    9204 non-null   object \n",
      " 4   Do Not Email                                   9240 non-null   object \n",
      " 5   Do Not Call                                    9240 non-null   object \n",
      " 6   Converted                                      9240 non-null   int64  \n",
      " 7   TotalVisits                                    9103 non-null   float64\n",
      " 8   Total Time Spent on Website                    9240 non-null   int64  \n",
      " 9   Page Views Per Visit                           9103 non-null   float64\n",
      " 10  Last Activity                                  9137 non-null   object \n",
      " 11  Country                                        6779 non-null   object \n",
      " 12  Specialization                                 7802 non-null   object \n",
      " 13  How did you hear about X Education             7033 non-null   object \n",
      " 14  What is your current occupation                6550 non-null   object \n",
      " 15  What matters most to you in choosing a course  6531 non-null   object \n",
      " 16  Search                                         9240 non-null   object \n",
      " 17  Magazine                                       9240 non-null   object \n",
      " 18  Newspaper Article                              9240 non-null   object \n",
      " 19  X Education Forums                             9240 non-null   object \n",
      " 20  Newspaper                                      9240 non-null   object \n",
      " 21  Digital Advertisement                          9240 non-null   object \n",
      " 22  Through Recommendations                        9240 non-null   object \n",
      " 23  Receive More Updates About Our Courses         9240 non-null   object \n",
      " 24  Tags                                           5887 non-null   object \n",
      " 25  Lead Quality                                   4473 non-null   object \n",
      " 26  Update me on Supply Chain Content              9240 non-null   object \n",
      " 27  Get updates on DM Content                      9240 non-null   object \n",
      " 28  Lead Profile                                   6531 non-null   object \n",
      " 29  City                                           7820 non-null   object \n",
      " 30  Asymmetrique Activity Index                    5022 non-null   object \n",
      " 31  Asymmetrique Profile Index                     5022 non-null   object \n",
      " 32  Asymmetrique Activity Score                    5022 non-null   float64\n",
      " 33  Asymmetrique Profile Score                     5022 non-null   float64\n",
      " 34  I agree to pay the amount through cheque       9240 non-null   object \n",
      " 35  A free copy of Mastering The Interview         9240 non-null   object \n",
      " 36  Last Notable Activity                          9240 non-null   object \n",
      "dtypes: float64(4), int64(3), object(30)\n",
      "memory usage: 2.6+ MB\n"
     ]
    }
   ],
   "source": [
    "lead_score_df.info()"
   ]
  },
  {
   "cell_type": "markdown",
   "id": "c26eacd2",
   "metadata": {},
   "source": [
    "## 2. DataCleaning"
   ]
  },
  {
   "cell_type": "code",
   "execution_count": 7,
   "id": "e63282e7",
   "metadata": {},
   "outputs": [
    {
     "data": {
      "text/html": [
       "<div>\n",
       "<style scoped>\n",
       "    .dataframe tbody tr th:only-of-type {\n",
       "        vertical-align: middle;\n",
       "    }\n",
       "\n",
       "    .dataframe tbody tr th {\n",
       "        vertical-align: top;\n",
       "    }\n",
       "\n",
       "    .dataframe thead th {\n",
       "        text-align: right;\n",
       "    }\n",
       "</style>\n",
       "<table border=\"1\" class=\"dataframe\">\n",
       "  <thead>\n",
       "    <tr style=\"text-align: right;\">\n",
       "      <th></th>\n",
       "      <th>Prospect ID</th>\n",
       "      <th>Lead Number</th>\n",
       "      <th>Lead Origin</th>\n",
       "      <th>Lead Source</th>\n",
       "      <th>Do Not Email</th>\n",
       "      <th>Do Not Call</th>\n",
       "      <th>Converted</th>\n",
       "      <th>TotalVisits</th>\n",
       "      <th>Total Time Spent on Website</th>\n",
       "      <th>Page Views Per Visit</th>\n",
       "      <th>...</th>\n",
       "      <th>Get updates on DM Content</th>\n",
       "      <th>Lead Profile</th>\n",
       "      <th>City</th>\n",
       "      <th>Asymmetrique Activity Index</th>\n",
       "      <th>Asymmetrique Profile Index</th>\n",
       "      <th>Asymmetrique Activity Score</th>\n",
       "      <th>Asymmetrique Profile Score</th>\n",
       "      <th>I agree to pay the amount through cheque</th>\n",
       "      <th>A free copy of Mastering The Interview</th>\n",
       "      <th>Last Notable Activity</th>\n",
       "    </tr>\n",
       "  </thead>\n",
       "  <tbody>\n",
       "  </tbody>\n",
       "</table>\n",
       "<p>0 rows × 37 columns</p>\n",
       "</div>"
      ],
      "text/plain": [
       "Empty DataFrame\n",
       "Columns: [Prospect ID, Lead Number, Lead Origin, Lead Source, Do Not Email, Do Not Call, Converted, TotalVisits, Total Time Spent on Website, Page Views Per Visit, Last Activity, Country, Specialization, How did you hear about X Education, What is your current occupation, What matters most to you in choosing a course, Search, Magazine, Newspaper Article, X Education Forums, Newspaper, Digital Advertisement, Through Recommendations, Receive More Updates About Our Courses, Tags, Lead Quality, Update me on Supply Chain Content, Get updates on DM Content, Lead Profile, City, Asymmetrique Activity Index, Asymmetrique Profile Index, Asymmetrique Activity Score, Asymmetrique Profile Score, I agree to pay the amount through cheque, A free copy of Mastering The Interview, Last Notable Activity]\n",
       "Index: []\n",
       "\n",
       "[0 rows x 37 columns]"
      ]
     },
     "execution_count": 7,
     "metadata": {},
     "output_type": "execute_result"
    }
   ],
   "source": [
    "# checking for duplicate values.\n",
    "lead_score_df.loc[lead_score_df.duplicated()]"
   ]
  },
  {
   "cell_type": "markdown",
   "id": "730487f7",
   "metadata": {},
   "source": [
    "### It has no duplicate values"
   ]
  },
  {
   "cell_type": "code",
   "execution_count": 8,
   "id": "688a8c1d",
   "metadata": {},
   "outputs": [
    {
     "data": {
      "text/html": [
       "<div>\n",
       "<style scoped>\n",
       "    .dataframe tbody tr th:only-of-type {\n",
       "        vertical-align: middle;\n",
       "    }\n",
       "\n",
       "    .dataframe tbody tr th {\n",
       "        vertical-align: top;\n",
       "    }\n",
       "\n",
       "    .dataframe thead th {\n",
       "        text-align: right;\n",
       "    }\n",
       "</style>\n",
       "<table border=\"1\" class=\"dataframe\">\n",
       "  <thead>\n",
       "    <tr style=\"text-align: right;\">\n",
       "      <th></th>\n",
       "      <th>Prospect ID</th>\n",
       "      <th>Lead Number</th>\n",
       "      <th>Lead Origin</th>\n",
       "      <th>Lead Source</th>\n",
       "      <th>Do Not Email</th>\n",
       "      <th>Do Not Call</th>\n",
       "      <th>Converted</th>\n",
       "      <th>TotalVisits</th>\n",
       "      <th>Total Time Spent on Website</th>\n",
       "      <th>Page Views Per Visit</th>\n",
       "      <th>...</th>\n",
       "      <th>Get updates on DM Content</th>\n",
       "      <th>Lead Profile</th>\n",
       "      <th>City</th>\n",
       "      <th>Asymmetrique Activity Index</th>\n",
       "      <th>Asymmetrique Profile Index</th>\n",
       "      <th>Asymmetrique Activity Score</th>\n",
       "      <th>Asymmetrique Profile Score</th>\n",
       "      <th>I agree to pay the amount through cheque</th>\n",
       "      <th>A free copy of Mastering The Interview</th>\n",
       "      <th>Last Notable Activity</th>\n",
       "    </tr>\n",
       "  </thead>\n",
       "  <tbody>\n",
       "    <tr>\n",
       "      <th>0</th>\n",
       "      <td>7927b2df-8bba-4d29-b9a2-b6e0beafe620</td>\n",
       "      <td>660737</td>\n",
       "      <td>API</td>\n",
       "      <td>Olark Chat</td>\n",
       "      <td>No</td>\n",
       "      <td>No</td>\n",
       "      <td>0</td>\n",
       "      <td>0.0</td>\n",
       "      <td>0</td>\n",
       "      <td>0.0</td>\n",
       "      <td>...</td>\n",
       "      <td>No</td>\n",
       "      <td>Select</td>\n",
       "      <td>Select</td>\n",
       "      <td>02.Medium</td>\n",
       "      <td>02.Medium</td>\n",
       "      <td>15.0</td>\n",
       "      <td>15.0</td>\n",
       "      <td>No</td>\n",
       "      <td>No</td>\n",
       "      <td>Modified</td>\n",
       "    </tr>\n",
       "    <tr>\n",
       "      <th>1</th>\n",
       "      <td>2a272436-5132-4136-86fa-dcc88c88f482</td>\n",
       "      <td>660728</td>\n",
       "      <td>API</td>\n",
       "      <td>Organic Search</td>\n",
       "      <td>No</td>\n",
       "      <td>No</td>\n",
       "      <td>0</td>\n",
       "      <td>5.0</td>\n",
       "      <td>674</td>\n",
       "      <td>2.5</td>\n",
       "      <td>...</td>\n",
       "      <td>No</td>\n",
       "      <td>Select</td>\n",
       "      <td>Select</td>\n",
       "      <td>02.Medium</td>\n",
       "      <td>02.Medium</td>\n",
       "      <td>15.0</td>\n",
       "      <td>15.0</td>\n",
       "      <td>No</td>\n",
       "      <td>No</td>\n",
       "      <td>Email Opened</td>\n",
       "    </tr>\n",
       "    <tr>\n",
       "      <th>2</th>\n",
       "      <td>8cc8c611-a219-4f35-ad23-fdfd2656bd8a</td>\n",
       "      <td>660727</td>\n",
       "      <td>Landing Page Submission</td>\n",
       "      <td>Direct Traffic</td>\n",
       "      <td>No</td>\n",
       "      <td>No</td>\n",
       "      <td>1</td>\n",
       "      <td>2.0</td>\n",
       "      <td>1532</td>\n",
       "      <td>2.0</td>\n",
       "      <td>...</td>\n",
       "      <td>No</td>\n",
       "      <td>Potential Lead</td>\n",
       "      <td>Mumbai</td>\n",
       "      <td>02.Medium</td>\n",
       "      <td>01.High</td>\n",
       "      <td>14.0</td>\n",
       "      <td>20.0</td>\n",
       "      <td>No</td>\n",
       "      <td>Yes</td>\n",
       "      <td>Email Opened</td>\n",
       "    </tr>\n",
       "    <tr>\n",
       "      <th>3</th>\n",
       "      <td>0cc2df48-7cf4-4e39-9de9-19797f9b38cc</td>\n",
       "      <td>660719</td>\n",
       "      <td>Landing Page Submission</td>\n",
       "      <td>Direct Traffic</td>\n",
       "      <td>No</td>\n",
       "      <td>No</td>\n",
       "      <td>0</td>\n",
       "      <td>1.0</td>\n",
       "      <td>305</td>\n",
       "      <td>1.0</td>\n",
       "      <td>...</td>\n",
       "      <td>No</td>\n",
       "      <td>Select</td>\n",
       "      <td>Mumbai</td>\n",
       "      <td>02.Medium</td>\n",
       "      <td>01.High</td>\n",
       "      <td>13.0</td>\n",
       "      <td>17.0</td>\n",
       "      <td>No</td>\n",
       "      <td>No</td>\n",
       "      <td>Modified</td>\n",
       "    </tr>\n",
       "    <tr>\n",
       "      <th>4</th>\n",
       "      <td>3256f628-e534-4826-9d63-4a8b88782852</td>\n",
       "      <td>660681</td>\n",
       "      <td>Landing Page Submission</td>\n",
       "      <td>Google</td>\n",
       "      <td>No</td>\n",
       "      <td>No</td>\n",
       "      <td>1</td>\n",
       "      <td>2.0</td>\n",
       "      <td>1428</td>\n",
       "      <td>1.0</td>\n",
       "      <td>...</td>\n",
       "      <td>No</td>\n",
       "      <td>Select</td>\n",
       "      <td>Mumbai</td>\n",
       "      <td>02.Medium</td>\n",
       "      <td>01.High</td>\n",
       "      <td>15.0</td>\n",
       "      <td>18.0</td>\n",
       "      <td>No</td>\n",
       "      <td>No</td>\n",
       "      <td>Modified</td>\n",
       "    </tr>\n",
       "  </tbody>\n",
       "</table>\n",
       "<p>5 rows × 37 columns</p>\n",
       "</div>"
      ],
      "text/plain": [
       "                            Prospect ID  Lead Number              Lead Origin  \\\n",
       "0  7927b2df-8bba-4d29-b9a2-b6e0beafe620       660737                      API   \n",
       "1  2a272436-5132-4136-86fa-dcc88c88f482       660728                      API   \n",
       "2  8cc8c611-a219-4f35-ad23-fdfd2656bd8a       660727  Landing Page Submission   \n",
       "3  0cc2df48-7cf4-4e39-9de9-19797f9b38cc       660719  Landing Page Submission   \n",
       "4  3256f628-e534-4826-9d63-4a8b88782852       660681  Landing Page Submission   \n",
       "\n",
       "      Lead Source Do Not Email Do Not Call  Converted  TotalVisits  \\\n",
       "0      Olark Chat           No          No          0          0.0   \n",
       "1  Organic Search           No          No          0          5.0   \n",
       "2  Direct Traffic           No          No          1          2.0   \n",
       "3  Direct Traffic           No          No          0          1.0   \n",
       "4          Google           No          No          1          2.0   \n",
       "\n",
       "   Total Time Spent on Website  Page Views Per Visit  ...  \\\n",
       "0                            0                   0.0  ...   \n",
       "1                          674                   2.5  ...   \n",
       "2                         1532                   2.0  ...   \n",
       "3                          305                   1.0  ...   \n",
       "4                         1428                   1.0  ...   \n",
       "\n",
       "  Get updates on DM Content    Lead Profile    City  \\\n",
       "0                        No          Select  Select   \n",
       "1                        No          Select  Select   \n",
       "2                        No  Potential Lead  Mumbai   \n",
       "3                        No          Select  Mumbai   \n",
       "4                        No          Select  Mumbai   \n",
       "\n",
       "  Asymmetrique Activity Index Asymmetrique Profile Index  \\\n",
       "0                   02.Medium                  02.Medium   \n",
       "1                   02.Medium                  02.Medium   \n",
       "2                   02.Medium                    01.High   \n",
       "3                   02.Medium                    01.High   \n",
       "4                   02.Medium                    01.High   \n",
       "\n",
       "  Asymmetrique Activity Score Asymmetrique Profile Score  \\\n",
       "0                        15.0                       15.0   \n",
       "1                        15.0                       15.0   \n",
       "2                        14.0                       20.0   \n",
       "3                        13.0                       17.0   \n",
       "4                        15.0                       18.0   \n",
       "\n",
       "  I agree to pay the amount through cheque  \\\n",
       "0                                       No   \n",
       "1                                       No   \n",
       "2                                       No   \n",
       "3                                       No   \n",
       "4                                       No   \n",
       "\n",
       "  A free copy of Mastering The Interview Last Notable Activity  \n",
       "0                                     No              Modified  \n",
       "1                                     No          Email Opened  \n",
       "2                                    Yes          Email Opened  \n",
       "3                                     No              Modified  \n",
       "4                                     No              Modified  \n",
       "\n",
       "[5 rows x 37 columns]"
      ]
     },
     "execution_count": 8,
     "metadata": {},
     "output_type": "execute_result"
    }
   ],
   "source": [
    "lead_score_df.head()"
   ]
  },
  {
   "cell_type": "markdown",
   "id": "991ba03b",
   "metadata": {},
   "source": [
    "#### As we can see many columns has select value which means the applicant has not selected any option which is a null value we can replace select with nan"
   ]
  },
  {
   "cell_type": "code",
   "execution_count": null,
   "id": "014ba9bf",
   "metadata": {},
   "outputs": [],
   "source": [
    "# Converting select value to null values\n",
    "lead_score_df=lead_score_df.replace('Select',np.nan)"
   ]
  },
  {
   "cell_type": "code",
   "execution_count": null,
   "id": "a55fd969",
   "metadata": {},
   "outputs": [],
   "source": [
    "#checking for null values\n",
    "lead_score_df.isnull().sum()"
   ]
  },
  {
   "cell_type": "code",
   "execution_count": null,
   "id": "8bc98ff9",
   "metadata": {},
   "outputs": [],
   "source": [
    "# converting null count to percentage\n",
    "round((lead_score_df.isnull().sum().sort_values(ascending=False)/len(lead_score_df.index)),2)*100"
   ]
  },
  {
   "cell_type": "markdown",
   "id": "5a1187ca",
   "metadata": {},
   "source": [
    "### We can drop missing value columns which are greater than 40 but not lead Quality."
   ]
  },
  {
   "cell_type": "code",
   "execution_count": null,
   "id": "ecf99270",
   "metadata": {},
   "outputs": [],
   "source": [
    "lead_score_df=lead_score_df.drop(columns=['Asymmetrique Activity Index','Asymmetrique Profile Index',\n",
    "                                          'Asymmetrique Activity Score','Asymmetrique Profile Score',\n",
    "                                         'How did you hear about X Education','Lead Profile'])"
   ]
  },
  {
   "cell_type": "code",
   "execution_count": null,
   "id": "8b3f2ecf",
   "metadata": {},
   "outputs": [],
   "source": [
    "round((lead_score_df.isnull().sum().sort_values(ascending=False)/len(lead_score_df.index)),2)*100"
   ]
  },
  {
   "cell_type": "markdown",
   "id": "33ba7fa7",
   "metadata": {},
   "source": [
    "### Handling the remaining null values column wise"
   ]
  },
  {
   "cell_type": "code",
   "execution_count": null,
   "id": "f380016b",
   "metadata": {},
   "outputs": [],
   "source": [
    "# function for plotting \n",
    "def bar_plot(col):\n",
    "    plt.style.use('classic')\n",
    "    sns.despine\n",
    "    value_count=(lead_score_df[col].value_counts(normalize=True)*100)\n",
    "    value_count.plot.bar(color=sns.color_palette('Set3'))\n",
    "    plt.xlabel(col)\n",
    "    plt.ylabel('percentage')\n",
    "    plt.show()\n"
   ]
  },
  {
   "cell_type": "code",
   "execution_count": null,
   "id": "c4d139f1",
   "metadata": {},
   "outputs": [],
   "source": [
    "# Lead Quality\n",
    "bar_plot('Lead Quality')"
   ]
  },
  {
   "cell_type": "markdown",
   "id": "016ddb36",
   "metadata": {},
   "source": [
    "#### We cant impute null values in lead quality with 'not sure' because we can assume applicants dont know or weren't sure what to fill "
   ]
  },
  {
   "cell_type": "code",
   "execution_count": null,
   "id": "cfd48da5",
   "metadata": {},
   "outputs": [],
   "source": [
    "lead_score_df['Lead Quality']=lead_score_df['Lead Quality'].replace(np.nan,'Not Sure')"
   ]
  },
  {
   "cell_type": "code",
   "execution_count": null,
   "id": "53a4e3ff",
   "metadata": {},
   "outputs": [],
   "source": [
    "# Checking for null values again\n",
    "lead_score_df['Lead Quality'].isnull().sum()"
   ]
  },
  {
   "cell_type": "code",
   "execution_count": null,
   "id": "8b796f75",
   "metadata": {},
   "outputs": [],
   "source": [
    "# City\n",
    "bar_plot('City')"
   ]
  },
  {
   "cell_type": "markdown",
   "id": "fb62fc0c",
   "metadata": {},
   "source": [
    "####  As we can see most of the applicants are from mumbai we can impute the null values with mumbai or mode"
   ]
  },
  {
   "cell_type": "code",
   "execution_count": null,
   "id": "c29af450",
   "metadata": {},
   "outputs": [],
   "source": [
    "lead_score_df['City']=lead_score_df['City'].replace(np.nan,lead_score_df['City'].mode()[0])"
   ]
  },
  {
   "cell_type": "code",
   "execution_count": null,
   "id": "eb3dae3f",
   "metadata": {},
   "outputs": [],
   "source": [
    "# Checking for null values again\n",
    "lead_score_df['City'].isnull().sum()"
   ]
  },
  {
   "cell_type": "code",
   "execution_count": null,
   "id": "950abc90",
   "metadata": {},
   "outputs": [],
   "source": [
    "# Specialization\n",
    "bar_plot('Specialization')"
   ]
  },
  {
   "cell_type": "markdown",
   "id": "b13f010d",
   "metadata": {},
   "source": [
    "#### We dont know what the applicant's specialization is because the applicant can be student or doent have any specialization also. so we can impute null value with new value others"
   ]
  },
  {
   "cell_type": "code",
   "execution_count": null,
   "id": "960b1120",
   "metadata": {},
   "outputs": [],
   "source": [
    "lead_score_df['Specialization']=lead_score_df['Specialization'].replace(np.nan,'Others')"
   ]
  },
  {
   "cell_type": "code",
   "execution_count": null,
   "id": "a1346799",
   "metadata": {},
   "outputs": [],
   "source": [
    "lead_score_df['Specialization'].isnull().sum()"
   ]
  },
  {
   "cell_type": "code",
   "execution_count": null,
   "id": "02920d9b",
   "metadata": {},
   "outputs": [],
   "source": [
    "# Tags\n",
    "bar_plot('Tags')"
   ]
  },
  {
   "cell_type": "markdown",
   "id": "9bcae3e3",
   "metadata": {},
   "source": [
    "#### We can impute missing values with mode i.e,'Will revert reading the email'"
   ]
  },
  {
   "cell_type": "code",
   "execution_count": null,
   "id": "e693c639",
   "metadata": {},
   "outputs": [],
   "source": [
    "lead_score_df['Tags']=lead_score_df['Tags'].replace(np.nan,lead_score_df['Tags'].mode()[0])"
   ]
  },
  {
   "cell_type": "code",
   "execution_count": null,
   "id": "2ebb265d",
   "metadata": {},
   "outputs": [],
   "source": [
    "lead_score_df['Tags'].mode()[0]"
   ]
  },
  {
   "cell_type": "code",
   "execution_count": null,
   "id": "ec5107d8",
   "metadata": {},
   "outputs": [],
   "source": [
    "# Checking for null values again\n",
    "lead_score_df['Tags'].isnull().sum()"
   ]
  },
  {
   "cell_type": "code",
   "execution_count": null,
   "id": "f350b54d",
   "metadata": {},
   "outputs": [],
   "source": [
    "# What matters most to you in choosing a course\n",
    "bar_plot('What matters most to you in choosing a course')"
   ]
  },
  {
   "cell_type": "code",
   "execution_count": null,
   "id": "98d4296a",
   "metadata": {},
   "outputs": [],
   "source": [
    "lead_score_df['What matters most to you in choosing a course'].value_counts()"
   ]
  },
  {
   "cell_type": "markdown",
   "id": "b854c369",
   "metadata": {},
   "source": [
    "#### This data looks highly skewed because the Better carrer prospects appeared 6528 times and other two appeared once or twice we can go ahead and drop this column"
   ]
  },
  {
   "cell_type": "code",
   "execution_count": null,
   "id": "e473d4da",
   "metadata": {},
   "outputs": [],
   "source": [
    "lead_score_df.drop(['What matters most to you in choosing a course'],axis=1,inplace=True)"
   ]
  },
  {
   "cell_type": "code",
   "execution_count": null,
   "id": "1ad994c7",
   "metadata": {},
   "outputs": [],
   "source": [
    "# What is your current occupation\n",
    "bar_plot('What is your current occupation')"
   ]
  },
  {
   "cell_type": "markdown",
   "id": "53c21230",
   "metadata": {},
   "source": [
    "### We can impute the most frequent value or can drop the null rows as it wont affect much"
   ]
  },
  {
   "cell_type": "code",
   "execution_count": null,
   "id": "0fd048bb",
   "metadata": {},
   "outputs": [],
   "source": [
    "lead_score_df['What is your current occupation']=lead_score_df['What is your current occupation'].replace(np.nan,lead_score_df['What is your current occupation'].mode()[0])"
   ]
  },
  {
   "cell_type": "code",
   "execution_count": null,
   "id": "f9d4f94f",
   "metadata": {},
   "outputs": [],
   "source": [
    "lead_score_df['What is your current occupation'].isnull().sum()"
   ]
  },
  {
   "cell_type": "code",
   "execution_count": null,
   "id": "45848c73",
   "metadata": {},
   "outputs": [],
   "source": [
    "# Country\n",
    "bar_plot('Country')"
   ]
  },
  {
   "cell_type": "code",
   "execution_count": null,
   "id": "7b5a079e",
   "metadata": {},
   "outputs": [],
   "source": [
    "#Seems like most of the applicants are from India and the column seems to be insignificant in our analysis and can be dropped\n",
    "lead_score_df.drop(['Country'],axis=1,inplace=True)"
   ]
  },
  {
   "cell_type": "code",
   "execution_count": null,
   "id": "b24a9165",
   "metadata": {
    "scrolled": false
   },
   "outputs": [],
   "source": [
    "#### TotalVisits,Page Views Per Visit,Last Activity,Lead Source \n",
    "list=['Last Activity','Lead Source']\n",
    "for l in list:\n",
    "    bar_plot(l)"
   ]
  },
  {
   "cell_type": "markdown",
   "id": "764a9311",
   "metadata": {},
   "source": [
    "#### We can see these columns have very less null values we can drop the null value rows"
   ]
  },
  {
   "cell_type": "markdown",
   "id": "9d1fab8e",
   "metadata": {},
   "source": [
    "#### For TotalVisits,Page Views Per Visit also we can drop rows"
   ]
  },
  {
   "cell_type": "code",
   "execution_count": null,
   "id": "745ebdf1",
   "metadata": {},
   "outputs": [],
   "source": [
    "lead_score_df.dropna(inplace=True)"
   ]
  },
  {
   "cell_type": "code",
   "execution_count": null,
   "id": "de91fa47",
   "metadata": {},
   "outputs": [],
   "source": [
    "round((lead_score_df.isnull().sum().sort_values(ascending=False)/len(lead_score_df.index)),2)*100"
   ]
  },
  {
   "cell_type": "markdown",
   "id": "bc75924b",
   "metadata": {},
   "source": [
    "### All null values are handled"
   ]
  },
  {
   "cell_type": "code",
   "execution_count": null,
   "id": "c66504c1",
   "metadata": {},
   "outputs": [],
   "source": [
    "for c in lead_score_df:\n",
    "    print(lead_score_df[c].astype('category').value_counts())\n",
    "    print('___________________________________________________')"
   ]
  },
  {
   "cell_type": "markdown",
   "id": "b073bae9",
   "metadata": {},
   "source": [
    "#### We can see 'Do Not Call','Search','Magazine','Newspaper Article','X Education Forums','Newspaper','Digital Advertisement','Through Recommendations','Receive More Updates About Our Courses','Update me on Supply Chain Content','Get updates on DM Content','I agree to pay the amount through cheque','A free copy of Mastering The Interview' only one value is present majorly. so we can drop them"
   ]
  },
  {
   "cell_type": "code",
   "execution_count": null,
   "id": "b26e558f",
   "metadata": {},
   "outputs": [],
   "source": [
    "# Deleting the columns which are not significant in our analysis\n",
    "lead_score_df=lead_score_df.drop(['Prospect ID','Lead Number','Do Not Call','Search','Magazine','Newspaper Article','X Education Forums',\n",
    "                            'Newspaper','Digital Advertisement','Through Recommendations','Receive More Updates About Our Courses',\n",
    "                            'Update me on Supply Chain Content','Get updates on DM Content','I agree to pay the amount through cheque',\n",
    "                            'A free copy of Mastering The Interview'],1)"
   ]
  },
  {
   "cell_type": "code",
   "execution_count": null,
   "id": "f0e81f51",
   "metadata": {},
   "outputs": [],
   "source": [
    "# Converting google to Google in Lead Source\n",
    "lead_score_df['Lead Source']=lead_score_df['Lead Source'].replace(['google'],'Google')"
   ]
  },
  {
   "cell_type": "markdown",
   "id": "c1159b47",
   "metadata": {},
   "source": [
    "### 3. EDA"
   ]
  },
  {
   "cell_type": "markdown",
   "id": "3b5806cb",
   "metadata": {},
   "source": [
    "### 3.1 Univariate and Bivariate Analysis"
   ]
  },
  {
   "cell_type": "code",
   "execution_count": null,
   "id": "6ef9ce13",
   "metadata": {},
   "outputs": [],
   "source": [
    "# Target variable\n",
    "bar_plot('Converted')"
   ]
  },
  {
   "cell_type": "code",
   "execution_count": null,
   "id": "0fe006a3",
   "metadata": {},
   "outputs": [],
   "source": [
    "(sum(lead_score_df['Converted'])/len(lead_score_df['Converted'].index))*100"
   ]
  },
  {
   "cell_type": "code",
   "execution_count": null,
   "id": "aba58195",
   "metadata": {},
   "outputs": [],
   "source": [
    "# Performing visualisation on numerical variables for treating outliers\n",
    "num_list=['TotalVisits','Total Time Spent on Website','Page Views Per Visit']\n",
    "plt.figure(figsize=(15,5))\n",
    "for num in num_list:\n",
    "    plt.subplot(1,3,num_list.index(num)+1)\n",
    "    sns.boxplot(lead_score_df[num],palette='flare')\n",
    "    plt.show()"
   ]
  },
  {
   "cell_type": "code",
   "execution_count": null,
   "id": "f905ac62",
   "metadata": {},
   "outputs": [],
   "source": [
    "#checking for percentiles\n",
    "lead_score_df[num_list].describe([0.25,0.50,0.75,0.90,0.95])"
   ]
  },
  {
   "cell_type": "markdown",
   "id": "a9aea2fc",
   "metadata": {},
   "source": [
    "### We can see there are outliers in the columns \n",
    "#### 1. For Total Time spent on the website we can see no outliers \n",
    "#### 2. For TotalVisits the difference between quatile of 95% and max is high so we should drop values after 95%\n",
    "#### 3. For Page View Per Visit also 95% quatile and max is too different so should drop values after 95%"
   ]
  },
  {
   "cell_type": "code",
   "execution_count": null,
   "id": "34dc7ad6",
   "metadata": {},
   "outputs": [],
   "source": [
    "percent_95=lead_score_df['TotalVisits'].quantile(0.95)\n",
    "lead_score_df=lead_score_df[lead_score_df['TotalVisits']<percent_95]"
   ]
  },
  {
   "cell_type": "code",
   "execution_count": null,
   "id": "966bf867",
   "metadata": {},
   "outputs": [],
   "source": [
    "percent_95=lead_score_df['Page Views Per Visit'].quantile(0.95)\n",
    "lead_score_df=lead_score_df[lead_score_df['Page Views Per Visit']<percent_95]"
   ]
  },
  {
   "cell_type": "code",
   "execution_count": null,
   "id": "43dc4aa0",
   "metadata": {},
   "outputs": [],
   "source": [
    "#checking for percentiles\n",
    "lead_score_df[num_list].describe([0.25,0.50,0.75,0.90,0.95])"
   ]
  },
  {
   "cell_type": "code",
   "execution_count": null,
   "id": "0908cfd0",
   "metadata": {},
   "outputs": [],
   "source": [
    "# Analysing numerical variable ith target variable\n",
    "plt.figure(figsize=(12,10))\n",
    "for num in num_list:\n",
    "    plt.subplot(3,1,num_list.index(num)+1)\n",
    "    sns.boxplot(data=lead_score_df,y=num,x='Converted',palette='flare')\n",
    "    plt.show()"
   ]
  },
  {
   "cell_type": "markdown",
   "id": "8273f712",
   "metadata": {},
   "source": [
    "#### 1. We can see total visit for 0 and 1 are same \n",
    "#### 2. People who spent time more on website are likely to be converted."
   ]
  },
  {
   "cell_type": "code",
   "execution_count": null,
   "id": "a3c1bdca",
   "metadata": {},
   "outputs": [],
   "source": [
    "def plot_categorical(variable):\n",
    "    plt.style.use('classic')\n",
    "    sns.despine\n",
    "    plt.figure(figsize=(20,10))\n",
    "    ax1=sns.countplot(x=variable,hue='Converted',data=lead_score_df,palette='flare')\n",
    "    ax1.set_xticklabels(ax1.get_xticklabels(), rotation=40, ha=\"right\")\n",
    "    plt.show"
   ]
  },
  {
   "cell_type": "code",
   "execution_count": null,
   "id": "b2fa521e",
   "metadata": {},
   "outputs": [],
   "source": [
    "cat_list=['Lead Origin', 'Lead Source', 'Do Not Email',\n",
    "       'Last Activity', 'Specialization',\n",
    "       'What is your current occupation', 'Tags', 'Lead Quality', 'City',\n",
    "       'Last Notable Activity']"
   ]
  },
  {
   "cell_type": "code",
   "execution_count": null,
   "id": "0047ca8d",
   "metadata": {
    "scrolled": false
   },
   "outputs": [],
   "source": [
    "for i in cat_list:\n",
    "    plot_categorical(i)"
   ]
  },
  {
   "cell_type": "markdown",
   "id": "f81e81d9",
   "metadata": {},
   "source": [
    "### Lead Origin:\n",
    "#### 1. API and Landing Page Submission have more leads and are converted less\n",
    "#### 2. Lead Add Form has less leads but conversion rate is more"
   ]
  },
  {
   "cell_type": "markdown",
   "id": "b8c7ff2e",
   "metadata": {},
   "source": [
    "### Lead Source:\n",
    "#### 1. Direct traffic and Google generate more leads \n",
    "#### 2.Reference and Welingak website leads have more conversion rate"
   ]
  },
  {
   "cell_type": "markdown",
   "id": "ddee6f90",
   "metadata": {},
   "source": [
    "### Do Not Email\n",
    "#### 1. No responses have most of the leads converted"
   ]
  },
  {
   "cell_type": "markdown",
   "id": "13856bb0",
   "metadata": {},
   "source": [
    "### Last Activity\n",
    "#### 1. Email Opened and SMS sent has more leads converted"
   ]
  },
  {
   "cell_type": "markdown",
   "id": "0e8afdbb",
   "metadata": {},
   "source": [
    "### Specialization\n",
    "#### 1. all have similar conversion rates"
   ]
  },
  {
   "cell_type": "markdown",
   "id": "e97d2137",
   "metadata": {},
   "source": [
    "### What is your current occupation\n",
    "#### 1. Unemployed has more leads \n",
    "#### 2. Working proffesionals has more conversion rate"
   ]
  },
  {
   "cell_type": "markdown",
   "id": "76f02350",
   "metadata": {},
   "source": [
    "### Tags\n",
    "#### 1. Will revert after reading the emails has more conversion rate and more leads"
   ]
  },
  {
   "cell_type": "markdown",
   "id": "9b5111d6",
   "metadata": {},
   "source": [
    "### Lead Quality\n",
    "#### 1. mightbe has the highest conversion rate and worst has lowest"
   ]
  },
  {
   "cell_type": "markdown",
   "id": "e8c9f0a4",
   "metadata": {},
   "source": [
    "### City\n",
    "#### 1. Mumbai has highest conversion rate"
   ]
  },
  {
   "cell_type": "code",
   "execution_count": null,
   "id": "2f9add26",
   "metadata": {
    "scrolled": false
   },
   "outputs": [],
   "source": [
    "lead_score_df.info()"
   ]
  },
  {
   "cell_type": "markdown",
   "id": "71d8699d",
   "metadata": {},
   "source": [
    "### 4. Data Preparation"
   ]
  },
  {
   "cell_type": "markdown",
   "id": "395cf18b",
   "metadata": {},
   "source": [
    "#### 4.1 Converting values to binary"
   ]
  },
  {
   "cell_type": "code",
   "execution_count": null,
   "id": "fbc3e7f8",
   "metadata": {},
   "outputs": [],
   "source": [
    "lead_score_df['Do Not Email']=lead_score_df['Do Not Email'].map({'Yes':1,'No':0})"
   ]
  },
  {
   "cell_type": "markdown",
   "id": "7d0ab3a0",
   "metadata": {},
   "source": [
    "### 4.2 Dummy variable creation"
   ]
  },
  {
   "cell_type": "code",
   "execution_count": null,
   "id": "d96772b5",
   "metadata": {},
   "outputs": [],
   "source": [
    "cat_list=['Lead Origin', 'Lead Source', 'Last Activity',\n",
    "       'Specialization', 'What is your current occupation','Tags','City',\n",
    "       'Lead Quality', 'Last Notable Activity']"
   ]
  },
  {
   "cell_type": "code",
   "execution_count": null,
   "id": "6d6601ed",
   "metadata": {},
   "outputs": [],
   "source": [
    "# create dummy variables and drop the first\n",
    "dummy=pd.get_dummies(lead_score_df[cat_list],drop_first=True)"
   ]
  },
  {
   "cell_type": "code",
   "execution_count": null,
   "id": "4ba1d911",
   "metadata": {},
   "outputs": [],
   "source": [
    "# Adding the results to the master dataframe\n",
    "lead_score_df=pd.concat([lead_score_df,dummy],axis=1)"
   ]
  },
  {
   "cell_type": "code",
   "execution_count": null,
   "id": "03e00fc1",
   "metadata": {},
   "outputs": [],
   "source": [
    "# we created dummy so we can drop original\n",
    "lead_score_df=lead_score_df.drop(cat_list,1)"
   ]
  },
  {
   "cell_type": "code",
   "execution_count": null,
   "id": "7857f7f7",
   "metadata": {},
   "outputs": [],
   "source": [
    "lead_score_df.head()"
   ]
  },
  {
   "cell_type": "markdown",
   "id": "2c3b8c2c",
   "metadata": {},
   "source": [
    "### 5. Test Train split"
   ]
  },
  {
   "cell_type": "code",
   "execution_count": null,
   "id": "2766e1c8",
   "metadata": {},
   "outputs": [],
   "source": [
    "#Putting feature variable\n",
    "x=lead_score_df.drop(['Converted'],axis=1)\n",
    "x.head()"
   ]
  },
  {
   "cell_type": "code",
   "execution_count": null,
   "id": "ab33dea6",
   "metadata": {},
   "outputs": [],
   "source": [
    "y=lead_score_df['Converted']\n",
    "y.head()"
   ]
  },
  {
   "cell_type": "code",
   "execution_count": null,
   "id": "14c3f626",
   "metadata": {},
   "outputs": [],
   "source": [
    "# Splitting the datainto train and test\n",
    "x_train,x_test,y_train,y_test=train_test_split(x,y,train_size=0.7,test_size=0.3,random_state=100)"
   ]
  },
  {
   "cell_type": "markdown",
   "id": "3d17d7a9",
   "metadata": {},
   "source": [
    "### 6. Feature Scaling"
   ]
  },
  {
   "cell_type": "code",
   "execution_count": null,
   "id": "2192e2ad",
   "metadata": {},
   "outputs": [],
   "source": [
    "scaler=StandardScaler()"
   ]
  },
  {
   "cell_type": "code",
   "execution_count": null,
   "id": "7607e963",
   "metadata": {},
   "outputs": [],
   "source": [
    "num_list"
   ]
  },
  {
   "cell_type": "code",
   "execution_count": null,
   "id": "08123aa5",
   "metadata": {},
   "outputs": [],
   "source": [
    "x_train[num_list]=scaler.fit_transform(x_train[num_list])\n",
    "x_train.head()"
   ]
  },
  {
   "cell_type": "code",
   "execution_count": null,
   "id": "166aeae4",
   "metadata": {},
   "outputs": [],
   "source": [
    "# Checking the converson rate\n",
    "(sum(lead_score_df['Converted'])/len(lead_score_df['Converted'].index))*100"
   ]
  },
  {
   "cell_type": "markdown",
   "id": "7abd0ec6",
   "metadata": {},
   "source": [
    "We have almost 37.5%% conversion rate"
   ]
  },
  {
   "cell_type": "markdown",
   "id": "e52078c7",
   "metadata": {},
   "source": [
    "### 7. Logistic Regression\n",
    "### 7.1 Building a model\n"
   ]
  },
  {
   "cell_type": "code",
   "execution_count": null,
   "id": "8446311f",
   "metadata": {},
   "outputs": [],
   "source": [
    "logreg=LogisticRegression()"
   ]
  },
  {
   "cell_type": "code",
   "execution_count": null,
   "id": "57f07d88",
   "metadata": {},
   "outputs": [],
   "source": [
    "# function for building a model to avoid repeation of code\n",
    "def model_building(x_train,y_train):\n",
    "    x_train_sm=sm.add_constant(x_train)\n",
    "    logm=sm.GLM(y_train,x_train_sm,family=sm.families.Binomial()).fit()\n",
    "    print(logm.summary())\n",
    "    return x_train_sm,logm"
   ]
  },
  {
   "cell_type": "code",
   "execution_count": null,
   "id": "d78c0d28",
   "metadata": {},
   "outputs": [],
   "source": [
    "# function for VIF values\n",
    "def checking_VIF(x_train):\n",
    "    x=x_train.drop('const',1)\n",
    "    vif=pd.DataFrame()\n",
    "    vif['Features']=x.columns\n",
    "    vif['VIF']=[variance_inflation_factor(x.values,i) for i in range(x.shape[1])]\n",
    "    vif['VIF']=round(vif['VIF'],2)\n",
    "    vif=vif.sort_values(by='VIF',ascending=False)\n",
    "    return vif"
   ]
  },
  {
   "cell_type": "code",
   "execution_count": null,
   "id": "56769266",
   "metadata": {},
   "outputs": [],
   "source": [
    "# function for confusion matrix\n",
    "def confusion_matrix(conv,pred):\n",
    "    confusion=metrics.confusion_matrix(conv,pred)\n",
    "    print('confusion matrix:',confusion)\n",
    "    print('Metrics acurracy_score:',metrics.accuracy_score(conv,pred))\n",
    "    return confusion"
   ]
  },
  {
   "cell_type": "code",
   "execution_count": null,
   "id": "c7289ce6",
   "metadata": {},
   "outputs": [],
   "source": [
    "# function for calculating other metrics\n",
    "def cal_metrics(confusion):\n",
    "    TP=confusion[1,1]\n",
    "    TN=confusion[0,0]\n",
    "    FP=confusion[0,1]\n",
    "    FN=confusion[1,0]\n",
    "    print('Sensitivity:',TP/float(TP+FN))\n",
    "    print('specificity:',TN/float(TN+FP))\n",
    "    print(\"false positive rate:\",FP/ float(TN+FP))\n",
    "    print('negative predictive value:',TN/float(TN+FN))\n"
   ]
  },
  {
   "cell_type": "code",
   "execution_count": null,
   "id": "1456f295",
   "metadata": {},
   "outputs": [],
   "source": [
    "# building first model\n",
    "x_sm,logm=model_building(x_train,y_train)"
   ]
  },
  {
   "cell_type": "markdown",
   "id": "1e5f0899",
   "metadata": {},
   "source": [
    "## 7.2 Feature  Selection using RFE"
   ]
  },
  {
   "cell_type": "code",
   "execution_count": null,
   "id": "41ccf2ba",
   "metadata": {},
   "outputs": [],
   "source": [
    "rfe =RFE(estimator=logreg,n_features_to_select=15) \n",
    "rfe=rfe.fit(x_train,y_train)"
   ]
  },
  {
   "cell_type": "code",
   "execution_count": null,
   "id": "0b73ace4",
   "metadata": {},
   "outputs": [],
   "source": [
    "rfe.support_"
   ]
  },
  {
   "cell_type": "code",
   "execution_count": null,
   "id": "c650bc9c",
   "metadata": {},
   "outputs": [],
   "source": [
    "#list(zip(x_train.columns, rfe.support_, rfe.ranking_))"
   ]
  },
  {
   "cell_type": "code",
   "execution_count": null,
   "id": "f78df1e9",
   "metadata": {},
   "outputs": [],
   "source": [
    "col = x_train.columns[rfe.support_]\n",
    "col"
   ]
  },
  {
   "cell_type": "code",
   "execution_count": null,
   "id": "b715c09f",
   "metadata": {},
   "outputs": [],
   "source": [
    "x_train.columns[~rfe.support_]"
   ]
  },
  {
   "cell_type": "markdown",
   "id": "c60f36bb",
   "metadata": {},
   "source": [
    "### Building model 2"
   ]
  },
  {
   "cell_type": "code",
   "execution_count": null,
   "id": "fe8b912e",
   "metadata": {},
   "outputs": [],
   "source": [
    "x_sm2,logm2=model_building(x_train[col],y_train)"
   ]
  },
  {
   "cell_type": "markdown",
   "id": "fe98037c",
   "metadata": {},
   "source": [
    "### Tags_invalid number has p value > 0.05 we can drop it"
   ]
  },
  {
   "cell_type": "code",
   "execution_count": null,
   "id": "b3ea92b2",
   "metadata": {},
   "outputs": [],
   "source": [
    "col_2=col.drop('Tags_invalid number',1)"
   ]
  },
  {
   "cell_type": "markdown",
   "id": "0e27e0cb",
   "metadata": {},
   "source": [
    "#### Building model 3"
   ]
  },
  {
   "cell_type": "code",
   "execution_count": null,
   "id": "3cea588c",
   "metadata": {},
   "outputs": [],
   "source": [
    "# Rebuilding a model 3\n",
    "x_sm3,logm3=model_building(x_train[col_2],y_train)"
   ]
  },
  {
   "cell_type": "markdown",
   "id": "d10a8b3c",
   "metadata": {},
   "source": [
    "### Tags_switched off has pvalue >0.05 so we can drop it"
   ]
  },
  {
   "cell_type": "code",
   "execution_count": null,
   "id": "5ee076e2",
   "metadata": {},
   "outputs": [],
   "source": [
    "col_3=col_2.drop('Tags_switched off',1)"
   ]
  },
  {
   "cell_type": "markdown",
   "id": "c059f5a9",
   "metadata": {},
   "source": [
    "#### Building model 4"
   ]
  },
  {
   "cell_type": "code",
   "execution_count": null,
   "id": "14b6a00b",
   "metadata": {},
   "outputs": [],
   "source": [
    "# Rebuilding a model 4\n",
    "x_sm4,logm4=model_building(x_train[col_3],y_train)"
   ]
  },
  {
   "cell_type": "markdown",
   "id": "a1a9b640",
   "metadata": {},
   "source": [
    "### All features have p value less than 0.05 and all seem significant"
   ]
  },
  {
   "cell_type": "markdown",
   "id": "ed2f1abe",
   "metadata": {},
   "source": [
    "### 7.3 Checking VIF to see if multicollinearity exists"
   ]
  },
  {
   "cell_type": "code",
   "execution_count": null,
   "id": "697f5331",
   "metadata": {},
   "outputs": [],
   "source": [
    "checking_VIF(x_sm4)"
   ]
  },
  {
   "cell_type": "code",
   "execution_count": null,
   "id": "1bbb980b",
   "metadata": {},
   "outputs": [],
   "source": [
    "#plotting correlations\n",
    "plt.figure(figsize=(20,9))\n",
    "sns.heatmap(x_sm4.corr(),annot=True,cmap=sns.cubehelix_palette(as_cmap=True))\n",
    "plt.show()"
   ]
  },
  {
   "cell_type": "markdown",
   "id": "1f473f0f",
   "metadata": {},
   "source": [
    "### We can say that there is not much multicolinearity and all variables have god VIF"
   ]
  },
  {
   "cell_type": "code",
   "execution_count": null,
   "id": "4bb23e9f",
   "metadata": {},
   "outputs": [],
   "source": [
    "# Get predicted values\n",
    "y_train_pred=logm4.predict(x_sm4)\n",
    "y_train_pred=y_train_pred.values.reshape(-1)\n",
    "y_train_pred[:10]"
   ]
  },
  {
   "cell_type": "code",
   "execution_count": null,
   "id": "c6ce74b8",
   "metadata": {},
   "outputs": [],
   "source": [
    "y_train_pred_final=pd.DataFrame({'Converted':y_train.values,'Conversion_prob':y_train_pred})\n",
    "y_train_pred_final.head()"
   ]
  },
  {
   "cell_type": "markdown",
   "id": "cbc0fc49",
   "metadata": {},
   "source": [
    "#### creating new column for predicted as 1 for prob>0.5 else 0"
   ]
  },
  {
   "cell_type": "code",
   "execution_count": null,
   "id": "b320674d",
   "metadata": {},
   "outputs": [],
   "source": [
    "y_train_pred_final['Predicted_final']=y_train_pred_final.Conversion_prob.map(lambda x: 1 if x>0.5 else 0)"
   ]
  },
  {
   "cell_type": "code",
   "execution_count": null,
   "id": "af8beb54",
   "metadata": {},
   "outputs": [],
   "source": [
    "y_train_pred_final.head()"
   ]
  },
  {
   "cell_type": "code",
   "execution_count": null,
   "id": "f3c2b6b0",
   "metadata": {},
   "outputs": [],
   "source": [
    "# confusion matrix\n",
    "confusion=confusion_matrix(y_train_pred_final.Converted,y_train_pred_final.Predicted_final)"
   ]
  },
  {
   "cell_type": "markdown",
   "id": "e2d43802",
   "metadata": {},
   "source": [
    "### we can say this our final model is\n",
    "#### 1.metrics accuracy score is 92%"
   ]
  },
  {
   "cell_type": "markdown",
   "id": "fc1409ee",
   "metadata": {},
   "source": [
    "### 7.4 Metrics beyond simple accuracy"
   ]
  },
  {
   "cell_type": "code",
   "execution_count": null,
   "id": "f6ec9610",
   "metadata": {},
   "outputs": [],
   "source": [
    "cal_metrics(confusion)"
   ]
  },
  {
   "cell_type": "markdown",
   "id": "ee97cf20",
   "metadata": {},
   "source": [
    "### 7.5 Plotting ROC Curve"
   ]
  },
  {
   "cell_type": "code",
   "execution_count": null,
   "id": "e6440194",
   "metadata": {},
   "outputs": [],
   "source": [
    "def Plot_ROC( actual, probs ):\n",
    "    fpr, tpr, thresholds = metrics.roc_curve( actual, probs,\n",
    "                                              drop_intermediate = False )\n",
    "    auc_score = metrics.roc_auc_score( actual, probs )\n",
    "    plt.figure(figsize=(5, 5))\n",
    "    plt.plot( fpr, tpr, label='ROC curve (area = %0.2f)' % auc_score )\n",
    "    plt.plot([0, 1], [0, 1], 'k--')\n",
    "    plt.xlim([0.0, 1.0])\n",
    "    plt.ylim([0.0, 1.05])\n",
    "    plt.xlabel('False Positive Rate or [1 - True Negative Rate]')\n",
    "    plt.ylabel('True Positive Rate')\n",
    "    plt.title('Receiver operating characteristic example')\n",
    "    plt.legend(loc=\"lower right\")\n",
    "    plt.show()\n",
    "\n",
    "    return None"
   ]
  },
  {
   "cell_type": "code",
   "execution_count": null,
   "id": "1b79f9c8",
   "metadata": {},
   "outputs": [],
   "source": [
    "fpr,tpr,thresholds=metrics.roc_curve(y_train_pred_final.Converted,y_train_pred_final.Conversion_prob,drop_intermediate=False)"
   ]
  },
  {
   "cell_type": "code",
   "execution_count": null,
   "id": "12233222",
   "metadata": {},
   "outputs": [],
   "source": [
    "Plot_ROC(y_train_pred_final.Converted,y_train_pred_final.Conversion_prob)"
   ]
  },
  {
   "cell_type": "markdown",
   "id": "b5dfffd2",
   "metadata": {},
   "source": [
    "### 7.6 Finding optimal cut off"
   ]
  },
  {
   "cell_type": "code",
   "execution_count": null,
   "id": "56709215",
   "metadata": {},
   "outputs": [],
   "source": [
    "# creating columns with different cutoff probabilities\n",
    "num=[float(x)/10 for x in range(10)]\n",
    "for i in num:\n",
    "    y_train_pred_final[i]=y_train_pred_final.Conversion_prob.map(lambda x: 1 if x>i else 0)"
   ]
  },
  {
   "cell_type": "code",
   "execution_count": null,
   "id": "d45203fa",
   "metadata": {},
   "outputs": [],
   "source": [
    "# Now let's calculate accuracy sensitivity and specificity for various probability cutoffs.\n",
    "cutoff_df = pd.DataFrame( columns = ['prob','accuracy','sensi','speci'])\n",
    "\n",
    "# TP = confusion[1,1] # true positive \n",
    "# TN = confusion[0,0] # true negatives\n",
    "# FP = confusion[0,1] # false positives\n",
    "# FN = confusion[1,0] # false negatives\n",
    "\n",
    "num = [0.0,0.1,0.2,0.3,0.4,0.5,0.6,0.7,0.8,0.9]\n",
    "for i in num:\n",
    "    cm1 = metrics.confusion_matrix(y_train_pred_final.Converted, y_train_pred_final[i])\n",
    "    total1=sum(sum(cm1))\n",
    "    accuracy = (cm1[0,0]+cm1[1,1])/total1\n",
    "    \n",
    "    speci = cm1[0,0]/(cm1[0,0]+cm1[0,1])\n",
    "    sensi = cm1[1,1]/(cm1[1,0]+cm1[1,1])\n",
    "    cutoff_df.loc[i] =[ i ,accuracy,sensi,speci]\n",
    "print(cutoff_df)"
   ]
  },
  {
   "cell_type": "code",
   "execution_count": null,
   "id": "7f475b1b",
   "metadata": {},
   "outputs": [],
   "source": [
    "# Let's plot accuracy sensitivity and specificity for various probabilities.\n",
    "cutoff_df.plot.line(x='prob', y=['accuracy','sensi','speci'])\n",
    "plt.show()"
   ]
  },
  {
   "cell_type": "markdown",
   "id": "2b1b3bb9",
   "metadata": {},
   "source": [
    "### 0.25 is the optimal point cutoff probability"
   ]
  },
  {
   "cell_type": "code",
   "execution_count": null,
   "id": "032491d3",
   "metadata": {
    "scrolled": true
   },
   "outputs": [],
   "source": [
    "y_train_pred_final['final_predicted'] = y_train_pred_final.Conversion_prob.map( lambda x: 1 if x > 0.3 else 0)\n",
    "\n",
    "y_train_pred_final.head()"
   ]
  },
  {
   "cell_type": "code",
   "execution_count": null,
   "id": "e7a94229",
   "metadata": {},
   "outputs": [],
   "source": [
    "#confusion metrics and accuray\n",
    "confusion_2=confusion_matrix(y_train_pred_final.Converted,y_train_pred_final.final_predicted)"
   ]
  },
  {
   "cell_type": "code",
   "execution_count": null,
   "id": "9740b46b",
   "metadata": {},
   "outputs": [],
   "source": [
    "# plotting confusion matrix\n",
    "from mlxtend.plotting import plot_confusion_matrix"
   ]
  },
  {
   "cell_type": "code",
   "execution_count": null,
   "id": "c9d1d7d8",
   "metadata": {},
   "outputs": [],
   "source": [
    "fig,ax1=plot_confusion_matrix(conf_mat=confusion_2,cmap='BuPu')\n",
    "plt.show()"
   ]
  },
  {
   "cell_type": "code",
   "execution_count": null,
   "id": "0661e2b9",
   "metadata": {},
   "outputs": [],
   "source": [
    "# Calculating metrics\n",
    "cal_metrics(confusion_2)"
   ]
  },
  {
   "cell_type": "code",
   "execution_count": null,
   "id": "0db986bf",
   "metadata": {},
   "outputs": [],
   "source": [
    "# Classification\n",
    "from sklearn.metrics import classification_report"
   ]
  },
  {
   "cell_type": "code",
   "execution_count": null,
   "id": "8dd04d24",
   "metadata": {},
   "outputs": [],
   "source": [
    "print(classification_report(y_train_pred_final.Converted,y_train_pred_final.Predicted_final))"
   ]
  },
  {
   "cell_type": "markdown",
   "id": "17dee62e",
   "metadata": {},
   "source": [
    "### 7.7 Precision and Recall"
   ]
  },
  {
   "cell_type": "markdown",
   "id": "d8e25571",
   "metadata": {},
   "source": [
    "Precision=TP/TP+FP"
   ]
  },
  {
   "cell_type": "code",
   "execution_count": null,
   "id": "d6a6b06f",
   "metadata": {},
   "outputs": [],
   "source": [
    "confusion[1,1]/(confusion[0,1]+confusion[1,1])"
   ]
  },
  {
   "cell_type": "markdown",
   "id": "bf654ec2",
   "metadata": {},
   "source": [
    "Recall=TP/TP+FN"
   ]
  },
  {
   "cell_type": "code",
   "execution_count": null,
   "id": "aceb874a",
   "metadata": {},
   "outputs": [],
   "source": [
    "confusion[1,1]/(confusion[1,0]+confusion[1,1])"
   ]
  },
  {
   "cell_type": "code",
   "execution_count": null,
   "id": "09bd3b7e",
   "metadata": {},
   "outputs": [],
   "source": [
    "# Using SKlearn Precison\n",
    "precision_score(y_train_pred_final.Converted, y_train_pred_final.Predicted_final)"
   ]
  },
  {
   "cell_type": "code",
   "execution_count": null,
   "id": "c4193749",
   "metadata": {},
   "outputs": [],
   "source": [
    "# Using SKlearn Recall\n",
    "recall_score(y_train_pred_final.Converted, y_train_pred_final.Predicted_final)"
   ]
  },
  {
   "cell_type": "markdown",
   "id": "66d42149",
   "metadata": {},
   "source": [
    "### Precision and recall tradeoff"
   ]
  },
  {
   "cell_type": "code",
   "execution_count": null,
   "id": "310df8b8",
   "metadata": {},
   "outputs": [],
   "source": [
    "#importing library\n",
    "from sklearn.metrics import precision_recall_curve"
   ]
  },
  {
   "cell_type": "code",
   "execution_count": null,
   "id": "deb170d2",
   "metadata": {},
   "outputs": [],
   "source": [
    "y_train_pred_final.Converted, y_train_pred_final.Predicted_final"
   ]
  },
  {
   "cell_type": "code",
   "execution_count": null,
   "id": "e8bd4d9f",
   "metadata": {},
   "outputs": [],
   "source": [
    "p, r, thresholds = precision_recall_curve(y_train_pred_final.Converted, y_train_pred_final.Conversion_prob)"
   ]
  },
  {
   "cell_type": "code",
   "execution_count": null,
   "id": "00483eae",
   "metadata": {},
   "outputs": [],
   "source": [
    "plt.plot(thresholds, p[:-1], \"g-\")\n",
    "plt.plot(thresholds, r[:-1], \"r-\")\n",
    "plt.show()"
   ]
  },
  {
   "cell_type": "markdown",
   "id": "98a99aa1",
   "metadata": {},
   "source": [
    "### We can say 0.25 is the optimal point for cutoff probability using precision and recall"
   ]
  },
  {
   "cell_type": "markdown",
   "id": "733e25cc",
   "metadata": {},
   "source": [
    "### 8. Making predictions on test data"
   ]
  },
  {
   "cell_type": "code",
   "execution_count": null,
   "id": "23bcdd47",
   "metadata": {},
   "outputs": [],
   "source": [
    "x_test[num_list]=scaler.transform(x_test[num_list])\n",
    "x_test.head()"
   ]
  },
  {
   "cell_type": "code",
   "execution_count": null,
   "id": "6d79c619",
   "metadata": {},
   "outputs": [],
   "source": [
    "x_test_sm=x_test[col_3]"
   ]
  },
  {
   "cell_type": "code",
   "execution_count": null,
   "id": "ce918087",
   "metadata": {},
   "outputs": [],
   "source": [
    "x_test_sm=sm.add_constant(x_test_sm)"
   ]
  },
  {
   "cell_type": "code",
   "execution_count": null,
   "id": "74fc5dd0",
   "metadata": {},
   "outputs": [],
   "source": [
    "# making predictions\n",
    "y_test_pred=logm4.predict(x_test_sm)\n",
    "y_test_pred[:10]"
   ]
  },
  {
   "cell_type": "code",
   "execution_count": null,
   "id": "1f4dd769",
   "metadata": {},
   "outputs": [],
   "source": [
    "#converting to dataframe array\n",
    "y_test_pred_1=pd.DataFrame(y_test_pred)\n",
    "y_test_pred_1.head()"
   ]
  },
  {
   "cell_type": "code",
   "execution_count": null,
   "id": "da1b66a9",
   "metadata": {},
   "outputs": [],
   "source": [
    "#ytest to dataframe\n",
    "y_test_df=pd.DataFrame(y_test)"
   ]
  },
  {
   "cell_type": "code",
   "execution_count": null,
   "id": "486e7da8",
   "metadata": {},
   "outputs": [],
   "source": [
    "# Putting Lead Id to index\n",
    "y_test_df['Lead ID'] = y_test_df.index"
   ]
  },
  {
   "cell_type": "code",
   "execution_count": null,
   "id": "0289c4d8",
   "metadata": {},
   "outputs": [],
   "source": [
    "# Removing index for both dataframes to append them side by side \n",
    "y_test_pred_1.reset_index(drop=True, inplace=True)\n",
    "y_test_df.reset_index(drop=True, inplace=True)"
   ]
  },
  {
   "cell_type": "code",
   "execution_count": null,
   "id": "5f3b9f45",
   "metadata": {},
   "outputs": [],
   "source": [
    "# Appending y_test_df and y_pred_1\n",
    "y_pred_final = pd.concat([y_test_df, y_test_pred_1],axis=1)"
   ]
  },
  {
   "cell_type": "code",
   "execution_count": null,
   "id": "6ca479ec",
   "metadata": {},
   "outputs": [],
   "source": [
    "y_pred_final.head()"
   ]
  },
  {
   "cell_type": "code",
   "execution_count": null,
   "id": "d22bd20b",
   "metadata": {},
   "outputs": [],
   "source": [
    "# Renaming the column \n",
    "y_pred_final= y_pred_final.rename(columns={ 0 : 'Conversion_prob'})"
   ]
  },
  {
   "cell_type": "code",
   "execution_count": null,
   "id": "92294cca",
   "metadata": {},
   "outputs": [],
   "source": [
    "# Rearranging the columns\n",
    "y_pred_final = y_pred_final.reindex(['Lead ID','Converted','Conversion_prob'], axis=1)"
   ]
  },
  {
   "cell_type": "code",
   "execution_count": null,
   "id": "18226334",
   "metadata": {},
   "outputs": [],
   "source": [
    "# Let's see the head of y_pred_final\n",
    "y_pred_final.head()"
   ]
  },
  {
   "cell_type": "code",
   "execution_count": null,
   "id": "41f0513d",
   "metadata": {},
   "outputs": [],
   "source": [
    "y_pred_final['Predicted_final'] = y_pred_final.Conversion_prob.map(lambda x: 1 if x > 0.42 else 0)"
   ]
  },
  {
   "cell_type": "code",
   "execution_count": null,
   "id": "48c42e2e",
   "metadata": {},
   "outputs": [],
   "source": [
    "y_pred_final.head()"
   ]
  },
  {
   "cell_type": "code",
   "execution_count": null,
   "id": "dd8ec0d4",
   "metadata": {},
   "outputs": [],
   "source": [
    "#confusion matrix and accuracy\n",
    "confusion_test=confusion_matrix(y_pred_final.Converted,y_pred_final.Predicted_final)"
   ]
  },
  {
   "cell_type": "code",
   "execution_count": null,
   "id": "1787d6b8",
   "metadata": {},
   "outputs": [],
   "source": [
    "fig,ax1=plot_confusion_matrix(conf_mat=confusion_test,cmap='BuPu')\n",
    "plt.show()"
   ]
  },
  {
   "cell_type": "code",
   "execution_count": null,
   "id": "11bdcf57",
   "metadata": {},
   "outputs": [],
   "source": [
    "# Calculating metrics\n",
    "cal_metrics(confusion_test)"
   ]
  },
  {
   "cell_type": "code",
   "execution_count": null,
   "id": "701b537a",
   "metadata": {},
   "outputs": [],
   "source": [
    "print(classification_report(y_pred_final.Converted,y_pred_final.Predicted_final))"
   ]
  },
  {
   "cell_type": "code",
   "execution_count": null,
   "id": "ac85df65",
   "metadata": {},
   "outputs": [],
   "source": [
    "# Precision \n",
    "confusion_test[1,1]/(confusion_test[0,1]+confusion_test[1,1])"
   ]
  },
  {
   "cell_type": "code",
   "execution_count": null,
   "id": "91709a7e",
   "metadata": {},
   "outputs": [],
   "source": [
    "#Recall\n",
    "confusion_test[1,1]/(confusion_test[1,0]+confusion_test[1,1])"
   ]
  },
  {
   "cell_type": "markdown",
   "id": "1f25b77f",
   "metadata": {},
   "source": [
    "### 9. Assigning leads"
   ]
  },
  {
   "cell_type": "code",
   "execution_count": null,
   "id": "9672cbb3",
   "metadata": {},
   "outputs": [],
   "source": [
    "y_pred_final['Lead_score']=y_pred_final.Conversion_prob.map(lambda x: round(x*100))\n",
    "y_pred_final.head()"
   ]
  },
  {
   "cell_type": "markdown",
   "id": "f00f9080",
   "metadata": {},
   "source": [
    "### Conclusions:"
   ]
  },
  {
   "cell_type": "markdown",
   "id": "f9a6f753",
   "metadata": {},
   "source": [
    "#### Train Data:\n",
    "1. Accuracy:91.5%\n",
    "2. Sensitivity:84.8%\n",
    "3. Specificity:95.6%\n",
    "\n",
    "#### Test Data:\n",
    "1. Accuracy:91.9%\n",
    "2. Sensitivity:84.7%\n",
    "3. Specificity:95.9%"
   ]
  },
  {
   "cell_type": "markdown",
   "id": "489e3d22",
   "metadata": {},
   "source": [
    "#### lead that should be contacted\n"
   ]
  },
  {
   "cell_type": "code",
   "execution_count": null,
   "id": "ddf96c3c",
   "metadata": {},
   "outputs": [],
   "source": [
    "hot_leads=y_pred_final.loc[y_pred_final['Lead_score']>=85]"
   ]
  },
  {
   "cell_type": "code",
   "execution_count": null,
   "id": "b0e0e6bc",
   "metadata": {},
   "outputs": [],
   "source": [
    "hot_leads"
   ]
  },
  {
   "cell_type": "markdown",
   "id": "e51b8ccf",
   "metadata": {},
   "source": [
    "### We have 623 leads which can be caontact as they have high chances of conversion rate"
   ]
  },
  {
   "cell_type": "markdown",
   "id": "7967e96c",
   "metadata": {},
   "source": [
    "### Important features from our final model"
   ]
  },
  {
   "cell_type": "code",
   "execution_count": null,
   "id": "a880e2ae",
   "metadata": {
    "scrolled": true
   },
   "outputs": [],
   "source": [
    "logm4.params.sort_values(ascending=False)"
   ]
  },
  {
   "cell_type": "code",
   "execution_count": null,
   "id": "fe55b8b7",
   "metadata": {},
   "outputs": [],
   "source": []
  }
 ],
 "metadata": {
  "kernelspec": {
   "display_name": "Python 3 (ipykernel)",
   "language": "python",
   "name": "python3"
  },
  "language_info": {
   "codemirror_mode": {
    "name": "ipython",
    "version": 3
   },
   "file_extension": ".py",
   "mimetype": "text/x-python",
   "name": "python",
   "nbconvert_exporter": "python",
   "pygments_lexer": "ipython3",
   "version": "3.9.13"
  }
 },
 "nbformat": 4,
 "nbformat_minor": 5
}
